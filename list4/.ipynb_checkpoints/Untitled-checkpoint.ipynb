{
 "cells": [
  {
   "cell_type": "code",
   "execution_count": 203,
   "id": "2ff36d64",
   "metadata": {},
   "outputs": [],
   "source": [
    "from keras.datasets import mnist\n",
    "(train_X,train_Y), (test_X,test_Y) = mnist.load_data()"
   ]
  },
  {
   "cell_type": "code",
   "execution_count": 204,
   "id": "0ed0f296",
   "metadata": {},
   "outputs": [
    {
     "name": "stdout",
     "output_type": "stream",
     "text": [
      "Training data shape :  (60000, 28, 28) (60000,)\n",
      "Testing data shape :  (10000, 28, 28) (10000,)\n"
     ]
    }
   ],
   "source": [
    "print('Training data shape : ', train_X.shape, train_Y.shape)\n",
    "print('Testing data shape : ', test_X.shape, test_Y.shape)"
   ]
  },
  {
   "cell_type": "code",
   "execution_count": 205,
   "id": "5083ec99",
   "metadata": {},
   "outputs": [
    {
     "name": "stdout",
     "output_type": "stream",
     "text": [
      "Total number of outputs :  10\n",
      "Output classes :  [0 1 2 3 4 5 6 7 8 9]\n"
     ]
    }
   ],
   "source": [
    "classes = np.unique(train_Y)\n",
    "nClasses = len(classes)\n",
    "print('Total number of outputs : ', nClasses)\n",
    "print('Output classes : ', classes)"
   ]
  },
  {
   "cell_type": "code",
   "execution_count": 224,
   "id": "30640c75",
   "metadata": {},
   "outputs": [
    {
     "data": {
      "text/plain": [
       "((48000, 28, 28, 1), (10000, 28, 28, 1))"
      ]
     },
     "execution_count": 224,
     "metadata": {},
     "output_type": "execute_result"
    }
   ],
   "source": [
    "train_X = train_X.reshape(-1, 28, 28, 1)\n",
    "test_X = test_X.reshape(-1, 28, 28, 1)\n",
    "train_X.shape, test_X.shape"
   ]
  },
  {
   "cell_type": "code",
   "execution_count": 207,
   "id": "b7047762",
   "metadata": {},
   "outputs": [],
   "source": [
    "from keras.utils import normalize\n",
    "train_X = train_X.astype('float32')\n",
    "test_X = test_X.astype('float32')\n",
    "train_X = normalize(train_X, axis=1)\n",
    "test_X = normalize(test_X, axis=1)"
   ]
  },
  {
   "cell_type": "code",
   "execution_count": 208,
   "id": "56680429",
   "metadata": {},
   "outputs": [
    {
     "name": "stdout",
     "output_type": "stream",
     "text": [
      "Original label: 5\n",
      "After conversion to argmax: [0. 0. 0. 0. 0. 1. 0. 0. 0. 0.]\n"
     ]
    }
   ],
   "source": [
    "train_Y_argmax = to_categorical(train_Y)\n",
    "test_Y_argmax = to_categorical(test_Y)\n",
    "\n",
    "print('Original label:', train_Y[0])\n",
    "print('After conversion to argmax:', train_Y_argmax[0])"
   ]
  },
  {
   "cell_type": "code",
   "execution_count": 209,
   "id": "cb64e4e5",
   "metadata": {},
   "outputs": [
    {
     "data": {
      "text/plain": [
       "((48000, 28, 28, 1), (12000, 28, 28, 1), (48000, 10), (12000, 10))"
      ]
     },
     "execution_count": 209,
     "metadata": {},
     "output_type": "execute_result"
    }
   ],
   "source": [
    "from sklearn.model_selection import train_test_split\n",
    "train_X,valid_X,train_label,valid_label = train_test_split(train_X, train_Y_argmax, test_size=0.2, random_state=13)\n",
    "train_X.shape,valid_X.shape,train_label.shape,valid_label.shape"
   ]
  },
  {
   "cell_type": "code",
   "execution_count": 218,
   "id": "229504b8",
   "metadata": {},
   "outputs": [],
   "source": [
    "from keras.models import Sequential,Input,Model\n",
    "from keras.layers import Dense, Dropout, Flatten\n",
    "from keras.layers import Conv2D, MaxPooling2D\n",
    "from keras.layers.normalization import BatchNormalization\n",
    "from keras.layers.advanced_activations import LeakyReLU\n",
    "batch_size = 200\n",
    "epochs = 10\n",
    "learn_rate = 0.01"
   ]
  },
  {
   "cell_type": "code",
   "execution_count": 211,
   "id": "49c83fa3",
   "metadata": {},
   "outputs": [],
   "source": [
    "model = Sequential()\n",
    "model.add(Conv2D(32, kernel_size=(3, 3),activation='relu',input_shape=(28,28,1),padding='same'))\n",
    "model.add(MaxPooling2D((2, 2),padding='same'))\n",
    "model.add(Dropout(0.25))\n",
    "model.add(Conv2D(64, (3, 3), activation='relu',padding='same'))\n",
    "model.add(MaxPooling2D(pool_size=(2, 2),padding='same'))\n",
    "model.add(Dropout(0.25))\n",
    "model.add(Conv2D(128, (3, 3), activation='relu',padding='same'))\n",
    "model.add(MaxPooling2D(pool_size=(2, 2),padding='same'))\n",
    "model.add(Dropout(0.25))\n",
    "model.add(Flatten())\n",
    "model.add(Dense(128, activation='relu'))\n",
    "model.add(Dense(10, activation='softmax'))"
   ]
  },
  {
   "cell_type": "code",
   "execution_count": 212,
   "id": "a48d49d2",
   "metadata": {},
   "outputs": [
    {
     "name": "stdout",
     "output_type": "stream",
     "text": [
      "Epoch 1/10\n",
      "240/240 [==============================] - 28s 116ms/step - loss: 0.4441 - accuracy: 0.8584 - val_loss: 0.1135 - val_accuracy: 0.9654\n",
      "Epoch 2/10\n",
      "240/240 [==============================] - 29s 121ms/step - loss: 0.1544 - accuracy: 0.9520 - val_loss: 0.1042 - val_accuracy: 0.9681\n",
      "Epoch 3/10\n",
      "240/240 [==============================] - 28s 118ms/step - loss: 0.1402 - accuracy: 0.9564 - val_loss: 0.0700 - val_accuracy: 0.9793\n",
      "Epoch 4/10\n",
      "240/240 [==============================] - 28s 118ms/step - loss: 0.1286 - accuracy: 0.9601 - val_loss: 0.0667 - val_accuracy: 0.9794\n",
      "Epoch 5/10\n",
      "240/240 [==============================] - 28s 117ms/step - loss: 0.1206 - accuracy: 0.9627 - val_loss: 0.0655 - val_accuracy: 0.9802\n",
      "Epoch 6/10\n",
      "240/240 [==============================] - 28s 118ms/step - loss: 0.1231 - accuracy: 0.9614 - val_loss: 0.0737 - val_accuracy: 0.9776\n",
      "Epoch 7/10\n",
      "240/240 [==============================] - 28s 117ms/step - loss: 0.1157 - accuracy: 0.9641 - val_loss: 0.0637 - val_accuracy: 0.9796\n",
      "Epoch 8/10\n",
      "240/240 [==============================] - 28s 117ms/step - loss: 0.1162 - accuracy: 0.9641 - val_loss: 0.0685 - val_accuracy: 0.9799\n",
      "Epoch 9/10\n",
      "240/240 [==============================] - 28s 118ms/step - loss: 0.1173 - accuracy: 0.9643 - val_loss: 0.0693 - val_accuracy: 0.9795\n",
      "Epoch 10/10\n",
      "240/240 [==============================] - 29s 119ms/step - loss: 0.1086 - accuracy: 0.9661 - val_loss: 0.0686 - val_accuracy: 0.9808\n"
     ]
    }
   ],
   "source": [
    "from keras import losses\n",
    "from keras import optimizers\n",
    "\n",
    "model.compile(loss=losses.categorical_crossentropy, \n",
    "              optimizer=optimizers.Adam(learning_rate=learn_rate),\n",
    "              metrics=['accuracy'])\n",
    "\n",
    "\n",
    "train = model.fit(train_X, train_label, batch_size = batch_size, epochs=epochs, validation_data = (valid_X, valid_label))"
   ]
  },
  {
   "cell_type": "code",
   "execution_count": 213,
   "id": "cdbd5359",
   "metadata": {},
   "outputs": [
    {
     "name": "stdout",
     "output_type": "stream",
     "text": [
      "313/313 [==============================] - 2s 5ms/step - loss: 0.0580 - accuracy: 0.9828\n"
     ]
    }
   ],
   "source": [
    "test_eval = model.evaluate(test_X, test_Y_argmax)"
   ]
  },
  {
   "cell_type": "code",
   "execution_count": 214,
   "id": "b48cbe8a",
   "metadata": {},
   "outputs": [
    {
     "data": {
      "image/png": "[encoded data removed]",
      "text/plain": [
       "<Figure size 432x288 with 1 Axes>"
      ]
     },
     "metadata": {
      "needs_background": "light"
     },
     "output_type": "display_data"
    },
    {
     "data": {
      "image/png": "[encoded data removed]",
      "text/plain": [
       "<Figure size 432x288 with 1 Axes>"
      ]
     },
     "metadata": {
      "needs_background": "light"
     },
     "output_type": "display_data"
    }
   ],
   "source": [
    "accuracy = train.history['accuracy']\n",
    "val_accuracy = train.history['val_accuracy']\n",
    "loss = train.history['loss']\n",
    "val_loss = train.history['val_loss']\n",
    "epochs = range(len(accuracy))\n",
    "plt.plot(epochs, accuracy, 'b', color=\"g\", label='Training accuracy')\n",
    "plt.plot(epochs, val_accuracy, 'b', label='Validation accuracy')\n",
    "plt.title('Training and validation accuracy')\n",
    "plt.legend()\n",
    "plt.figure()\n",
    "plt.plot(epochs, loss, 'b', color=\"g\", label='Training loss')\n",
    "plt.plot(epochs, val_loss, 'b', label='Validation loss')\n",
    "plt.title('Training and validation loss')\n",
    "plt.legend()\n",
    "plt.show()"
   ]
  },
  {
   "cell_type": "code",
   "execution_count": 215,
   "id": "f4fcbd16",
   "metadata": {},
   "outputs": [],
   "source": [
    "model_mlp = Sequential()\n",
    "model_mlp.add(Flatten())\n",
    "model_mlp.add(Dense(128, activation='relu'))\n",
    "model_mlp.add(Dense(64, activation='relu'))\n",
    "model_mlp.add(Dense(10, activation='softmax'))"
   ]
  },
  {
   "cell_type": "code",
   "execution_count": 219,
   "id": "a4b1aaf7",
   "metadata": {},
   "outputs": [
    {
     "name": "stdout",
     "output_type": "stream",
     "text": [
      "Epoch 1/10\n",
      "240/240 [==============================] - 1s 2ms/step - loss: 0.2709 - accuracy: 0.9181 - val_loss: 0.1472 - val_accuracy: 0.9569\n",
      "Epoch 2/10\n",
      "240/240 [==============================] - 0s 2ms/step - loss: 0.1124 - accuracy: 0.9656 - val_loss: 0.1417 - val_accuracy: 0.9554\n",
      "Epoch 3/10\n",
      "240/240 [==============================] - 0s 2ms/step - loss: 0.0844 - accuracy: 0.9728 - val_loss: 0.1267 - val_accuracy: 0.9653\n",
      "Epoch 4/10\n",
      "240/240 [==============================] - 0s 2ms/step - loss: 0.0666 - accuracy: 0.9784 - val_loss: 0.1192 - val_accuracy: 0.9664\n",
      "Epoch 5/10\n",
      "240/240 [==============================] - 0s 2ms/step - loss: 0.0554 - accuracy: 0.9818 - val_loss: 0.1270 - val_accuracy: 0.9664\n",
      "Epoch 6/10\n",
      "240/240 [==============================] - 0s 2ms/step - loss: 0.0486 - accuracy: 0.9847 - val_loss: 0.1347 - val_accuracy: 0.9672\n",
      "Epoch 7/10\n",
      "240/240 [==============================] - 0s 2ms/step - loss: 0.0385 - accuracy: 0.9875 - val_loss: 0.1340 - val_accuracy: 0.9704\n",
      "Epoch 8/10\n",
      "240/240 [==============================] - 0s 2ms/step - loss: 0.0391 - accuracy: 0.9877 - val_loss: 0.1401 - val_accuracy: 0.9657\n",
      "Epoch 9/10\n",
      "240/240 [==============================] - 0s 2ms/step - loss: 0.0364 - accuracy: 0.9882 - val_loss: 0.1748 - val_accuracy: 0.9672\n",
      "Epoch 10/10\n",
      "240/240 [==============================] - 0s 2ms/step - loss: 0.0383 - accuracy: 0.9879 - val_loss: 0.1608 - val_accuracy: 0.9667\n"
     ]
    }
   ],
   "source": [
    "model_mlp.compile(loss=losses.categorical_crossentropy, \n",
    "              optimizer=optimizers.Adam(learning_rate=learn_rate),\n",
    "              metrics=['accuracy'])\n",
    "\n",
    "\n",
    "train_mlp = model_mlp.fit(train_X, train_label, batch_size = batch_size, epochs=epochs, validation_data = (valid_X, valid_label))"
   ]
  },
  {
   "cell_type": "code",
   "execution_count": 220,
   "id": "cbd63de6",
   "metadata": {},
   "outputs": [
    {
     "name": "stdout",
     "output_type": "stream",
     "text": [
      "313/313 [==============================] - 0s 766us/step - loss: 0.1462 - accuracy: 0.9675\n"
     ]
    }
   ],
   "source": [
    "test_eval = model_mlp.evaluate(test_X, test_Y_argmax)"
   ]
  },
  {
   "cell_type": "code",
   "execution_count": 222,
   "id": "eabe06c9",
   "metadata": {},
   "outputs": [
    {
     "data": {
      "image/png": "[encoded data removed]",
      "text/plain": [
       "<Figure size 432x288 with 1 Axes>"
      ]
     },
     "metadata": {
      "needs_background": "light"
     },
     "output_type": "display_data"
    },
    {
     "data": {
      "image/png": "[encoded data removed]",
      "text/plain": [
       "<Figure size 432x288 with 1 Axes>"
      ]
     },
     "metadata": {
      "needs_background": "light"
     },
     "output_type": "display_data"
    }
   ],
   "source": [
    "accuracy = train_mlp.history['accuracy']\n",
    "val_accuracy = train_mlp.history['val_accuracy']\n",
    "loss = train_mlp.history['loss']\n",
    "val_loss = train_mlp.history['val_loss']\n",
    "epochs = range(len(accuracy))\n",
    "plt.plot(epochs, accuracy, 'b', color=\"g\", label='Training accuracy')\n",
    "plt.plot(epochs, val_accuracy, 'b', label='Validation accuracy')\n",
    "plt.title('Training and validation accuracy')\n",
    "plt.legend()\n",
    "plt.figure()\n",
    "plt.plot(epochs, loss, 'b', color=\"g\", label='Training loss')\n",
    "plt.plot(epochs, val_loss, 'b', label='Validation loss')\n",
    "plt.title('Training and validation loss')\n",
    "plt.legend()\n",
    "plt.show()"
   ]
  },
  {
   "cell_type": "code",
   "execution_count": null,
   "id": "fdbfabb7",
   "metadata": {},
   "outputs": [],
   "source": []
  }
 ],
 "metadata": {
  "kernelspec": {
   "display_name": "Python 3",
   "language": "python",
   "name": "python3"
  },
  "language_info": {
   "codemirror_mode": {
    "name": "ipython",
    "version": 3
   },
   "file_extension": ".py",
   "mimetype": "text/x-python",
   "name": "python",
   "nbconvert_exporter": "python",
   "pygments_lexer": "ipython3",
   "version": "3.8.8"
  }
 },
 "nbformat": 4,
 "nbformat_minor": 5
}
