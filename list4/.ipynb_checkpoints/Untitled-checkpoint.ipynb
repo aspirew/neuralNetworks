{
 "cells": [
  {
   "cell_type": "code",
   "execution_count": 59,
   "id": "5658ca44",
   "metadata": {},
   "outputs": [],
   "source": [
    "from keras.datasets import mnist\n",
    "(train_X,train_Y), (test_X,test_Y) = mnist.load_data()"
   ]
  },
  {
   "cell_type": "code",
   "execution_count": 60,
   "id": "21f32d25",
   "metadata": {},
   "outputs": [
    {
     "name": "stdout",
     "output_type": "stream",
     "text": [
      "Training data shape :  (60000, 28, 28) (60000,)\n",
      "Testing data shape :  (10000, 28, 28) (10000,)\n"
     ]
    }
   ],
   "source": [
    "print('Training data shape : ', train_X.shape, train_Y.shape)\n",
    "print('Testing data shape : ', test_X.shape, test_Y.shape)"
   ]
  },
  {
   "cell_type": "code",
   "execution_count": 61,
   "id": "3248025a",
   "metadata": {},
   "outputs": [
    {
     "name": "stdout",
     "output_type": "stream",
     "text": [
      "Total number of outputs :  10\n",
      "Output classes :  [0 1 2 3 4 5 6 7 8 9]\n"
     ]
    }
   ],
   "source": [
    "import numpy as np\n",
    "\n",
    "classes = np.unique(train_Y)\n",
    "nClasses = len(classes)\n",
    "print('Total number of outputs : ', nClasses)\n",
    "print('Output classes : ', classes)"
   ]
  },
  {
   "cell_type": "code",
   "execution_count": 62,
   "id": "d68a22f3",
   "metadata": {},
   "outputs": [
    {
     "data": {
      "text/plain": [
       "((60000, 28, 28, 1), (10000, 28, 28, 1))"
      ]
     },
     "execution_count": 62,
     "metadata": {},
     "output_type": "execute_result"
    }
   ],
   "source": [
    "train_X\n",
    "train_Y\n",
    "train_X = train_X.reshape(-1, 28, 28, 1)\n",
    "test_X = test_X.reshape(-1, 28, 28, 1)\n",
    "train_X.shape, test_X.shape"
   ]
  },
  {
   "cell_type": "code",
   "execution_count": 63,
   "id": "fc72fb56",
   "metadata": {},
   "outputs": [],
   "source": [
    "from keras.utils import normalize\n",
    "train_X = train_X.astype('float32')\n",
    "test_X = test_X.astype('float32')\n",
    "train_X = normalize(train_X, axis=1)\n",
    "test_X = normalize(test_X, axis=1)"
   ]
  },
  {
   "cell_type": "code",
   "execution_count": 64,
   "id": "48b3696a",
   "metadata": {},
   "outputs": [
    {
     "name": "stdout",
     "output_type": "stream",
     "text": [
      "Original label: 5\n",
      "After conversion to argmax: [0. 0. 0. 0. 0. 1. 0. 0. 0. 0.]\n"
     ]
    }
   ],
   "source": [
    "from keras.utils import to_categorical\n",
    "\n",
    "train_Y_argmax = to_categorical(train_Y)\n",
    "test_Y_argmax = to_categorical(test_Y)\n",
    "\n",
    "print('Original label:', train_Y[0])\n",
    "print('After conversion to argmax:', train_Y_argmax[0])"
   ]
  },
  {
   "cell_type": "code",
   "execution_count": 65,
   "id": "aaece0b0",
   "metadata": {},
   "outputs": [
    {
     "data": {
      "text/plain": [
       "((48000, 28, 28, 1), (12000, 28, 28, 1), (48000, 10), (12000, 10))"
      ]
     },
     "execution_count": 65,
     "metadata": {},
     "output_type": "execute_result"
    }
   ],
   "source": [
    "from sklearn.model_selection import train_test_split\n",
    "train_X,valid_X,train_label,valid_label = train_test_split(train_X, train_Y_argmax, test_size=0.2, random_state=13)\n",
    "train_X.shape,valid_X.shape,train_label.shape,valid_label.shape"
   ]
  },
  {
   "cell_type": "code",
   "execution_count": 147,
   "id": "5c38906d",
   "metadata": {},
   "outputs": [],
   "source": [
    "from keras.models import Sequential,Input,Model\n",
    "from keras.layers import Dense, Dropout, Flatten\n",
    "from keras.layers import Conv2D, MaxPooling2D, AvgPooling2D\n",
    "from keras.layers.normalization import BatchNormalization\n",
    "from keras.layers.advanced_activations import LeakyReLU\n",
    "batch_size = 200\n",
    "epochs = 10\n",
    "learn_rate = 0.01\n",
    "k_size = 3\n",
    "feature_map = 32"
   ]
  },
  {
   "cell_type": "code",
   "execution_count": 148,
   "id": "e8885e2e",
   "metadata": {},
   "outputs": [],
   "source": [
    "model = Sequential()\n",
    "model.add(Conv2D(feature_map, kernel_size=(k_size, k_size),activation='relu',input_shape=(28,28,1),padding='same'))\n",
    "model.add(AvgPooling2D((2, 2),padding='same'))\n",
    "model.add(Flatten())\n",
    "model.add(Dense(128, activation='relu'))\n",
    "model.add(Dropout(0.25))\n",
    "model.add(Dense(10, activation='softmax'))"
   ]
  },
  {
   "cell_type": "code",
   "execution_count": 149,
   "id": "34fe331a",
   "metadata": {},
   "outputs": [
    {
     "name": "stdout",
     "output_type": "stream",
     "text": [
      "Epoch 1/10\n",
      "240/240 [==============================] - 71s 297ms/step - loss: 0.2371 - accuracy: 0.9288 - val_loss: 0.0950 - val_accuracy: 0.9722\n",
      "Epoch 2/10\n",
      "240/240 [==============================] - 70s 293ms/step - loss: 0.0911 - accuracy: 0.9715 - val_loss: 0.0881 - val_accuracy: 0.9736\n",
      "Epoch 3/10\n",
      "240/240 [==============================] - 69s 289ms/step - loss: 0.0668 - accuracy: 0.9779 - val_loss: 0.0847 - val_accuracy: 0.9767\n",
      "Epoch 4/10\n",
      "240/240 [==============================] - 70s 292ms/step - loss: 0.0571 - accuracy: 0.9814 - val_loss: 0.0740 - val_accuracy: 0.9805\n",
      "Epoch 5/10\n",
      "240/240 [==============================] - 66s 277ms/step - loss: 0.0475 - accuracy: 0.9840 - val_loss: 0.0819 - val_accuracy: 0.9779\n",
      "Epoch 6/10\n",
      "240/240 [==============================] - 68s 283ms/step - loss: 0.0394 - accuracy: 0.9871 - val_loss: 0.0906 - val_accuracy: 0.9791\n",
      "Epoch 7/10\n",
      "240/240 [==============================] - 67s 279ms/step - loss: 0.0399 - accuracy: 0.9872 - val_loss: 0.0855 - val_accuracy: 0.9792\n",
      "Epoch 8/10\n",
      "240/240 [==============================] - 67s 281ms/step - loss: 0.0367 - accuracy: 0.9884 - val_loss: 0.0901 - val_accuracy: 0.9811\n",
      "Epoch 9/10\n",
      "240/240 [==============================] - 66s 275ms/step - loss: 0.0306 - accuracy: 0.9902 - val_loss: 0.1036 - val_accuracy: 0.9802\n",
      "Epoch 10/10\n",
      "240/240 [==============================] - 67s 281ms/step - loss: 0.0334 - accuracy: 0.9895 - val_loss: 0.1072 - val_accuracy: 0.9816\n"
     ]
    }
   ],
   "source": [
    "from keras import losses\n",
    "from keras import optimizers\n",
    "\n",
    "model.compile(loss=losses.categorical_crossentropy, \n",
    "              optimizer=optimizers.Adam(learning_rate=learn_rate),\n",
    "              metrics=['accuracy'])\n",
    "\n",
    "\n",
    "train = model.fit(train_X, train_label, batch_size = batch_size, epochs=epochs, validation_data = (valid_X, valid_label))"
   ]
  },
  {
   "cell_type": "code",
   "execution_count": 150,
   "id": "4815ee89",
   "metadata": {},
   "outputs": [
    {
     "name": "stdout",
     "output_type": "stream",
     "text": [
      "313/313 [==============================] - 6s 18ms/step - loss: 0.0878 - accuracy: 0.9822\n"
     ]
    }
   ],
   "source": [
    "test_eval = model.evaluate(test_X, test_Y_argmax)"
   ]
  },
  {
   "cell_type": "code",
   "execution_count": 151,
   "id": "7b1b0247",
   "metadata": {},
   "outputs": [
    {
     "data": {
      "image/png": "[encoded data removed]",
      "text/plain": [
       "<Figure size 432x288 with 1 Axes>"
      ]
     },
     "metadata": {
      "needs_background": "light"
     },
     "output_type": "display_data"
    },
    {
     "data": {
      "image/png": "[encoded data removed]",
      "text/plain": [
       "<Figure size 432x288 with 1 Axes>"
      ]
     },
     "metadata": {
      "needs_background": "light"
     },
     "output_type": "display_data"
    }
   ],
   "source": [
    "import matplotlib.pyplot as plt\n",
    "\n",
    "accuracy = train.history['accuracy']\n",
    "val_accuracy = train.history['val_accuracy']\n",
    "loss = train.history['loss']\n",
    "val_loss = train.history['val_loss']\n",
    "epochs = range(len(accuracy))\n",
    "plt.plot(epochs, accuracy, 'b', color=\"g\", label='Training accuracy')\n",
    "plt.plot(epochs, val_accuracy, 'b', label='Validation accuracy')\n",
    "plt.title('Training and validation accuracy')\n",
    "plt.legend()\n",
    "plt.figure()\n",
    "plt.plot(epochs, loss, 'b', color=\"g\", label='Training loss')\n",
    "plt.plot(epochs, val_loss, 'b', label='Validation loss')\n",
    "plt.title('Training and validation loss')\n",
    "plt.legend()\n",
    "plt.show()"
   ]
  },
  {
   "cell_type": "code",
   "execution_count": 47,
   "id": "bca0b0e7",
   "metadata": {},
   "outputs": [],
   "source": [
    "batch_size = 200\n",
    "epochs = 10\n",
    "learn_rate = 0.01\n",
    "\n",
    "model_mlp = Sequential()\n",
    "model_mlp.add(Flatten())\n",
    "model_mlp.add(Dense(128, activation='relu'))\n",
    "model_mlp.add(Dropout(0.25))\n",
    "model_mlp.add(Dense(64, activation='relu'))\n",
    "model_mlp.add(Dropout(0.25))\n",
    "model_mlp.add(Dense(10, activation='softmax'))"
   ]
  },
  {
   "cell_type": "code",
   "execution_count": 48,
   "id": "8e6c427e",
   "metadata": {},
   "outputs": [
    {
     "name": "stdout",
     "output_type": "stream",
     "text": [
      "Epoch 1/10\n",
      "240/240 [==============================] - 1s 3ms/step - loss: 0.3760 - accuracy: 0.8865 - val_loss: 0.1567 - val_accuracy: 0.9517\n",
      "Epoch 2/10\n",
      "240/240 [==============================] - 0s 2ms/step - loss: 0.2022 - accuracy: 0.9404 - val_loss: 0.1353 - val_accuracy: 0.9588\n",
      "Epoch 3/10\n",
      "240/240 [==============================] - 0s 2ms/step - loss: 0.1734 - accuracy: 0.9489 - val_loss: 0.1281 - val_accuracy: 0.9608\n",
      "Epoch 4/10\n",
      "240/240 [==============================] - 1s 2ms/step - loss: 0.1510 - accuracy: 0.9540 - val_loss: 0.1284 - val_accuracy: 0.9660\n",
      "Epoch 5/10\n",
      "240/240 [==============================] - 0s 2ms/step - loss: 0.1417 - accuracy: 0.9577 - val_loss: 0.1153 - val_accuracy: 0.9693\n",
      "Epoch 6/10\n",
      "240/240 [==============================] - 0s 2ms/step - loss: 0.1263 - accuracy: 0.9615 - val_loss: 0.1220 - val_accuracy: 0.9689\n",
      "Epoch 7/10\n",
      "240/240 [==============================] - 1s 2ms/step - loss: 0.1196 - accuracy: 0.9645 - val_loss: 0.1162 - val_accuracy: 0.9692\n",
      "Epoch 8/10\n",
      "240/240 [==============================] - 0s 2ms/step - loss: 0.1108 - accuracy: 0.9664 - val_loss: 0.1212 - val_accuracy: 0.9695\n",
      "Epoch 9/10\n",
      "240/240 [==============================] - 0s 2ms/step - loss: 0.1208 - accuracy: 0.9645 - val_loss: 0.1252 - val_accuracy: 0.9676\n",
      "Epoch 10/10\n",
      "240/240 [==============================] - 0s 2ms/step - loss: 0.1062 - accuracy: 0.9683 - val_loss: 0.1145 - val_accuracy: 0.9712\n"
     ]
    }
   ],
   "source": [
    "model_mlp.compile(loss=losses.categorical_crossentropy, \n",
    "              optimizer=optimizers.Adam(learning_rate=learn_rate),\n",
    "              metrics=['accuracy'])\n",
    "\n",
    "\n",
    "train_mlp = model_mlp.fit(train_X, train_label, batch_size = batch_size, epochs=epochs, validation_data = (valid_X, valid_label))"
   ]
  },
  {
   "cell_type": "code",
   "execution_count": 49,
   "id": "ebb5907d",
   "metadata": {},
   "outputs": [
    {
     "name": "stdout",
     "output_type": "stream",
     "text": [
      "313/313 [==============================] - 0s 920us/step - loss: 0.1127 - accuracy: 0.9717\n"
     ]
    }
   ],
   "source": [
    "test_eval = model_mlp.evaluate(test_X, test_Y_argmax)"
   ]
  },
  {
   "cell_type": "code",
   "execution_count": 50,
   "id": "f6622599",
   "metadata": {},
   "outputs": [
    {
     "data": {
      "image/png": "[encoded data removed]",
      "text/plain": [
       "<Figure size 432x288 with 1 Axes>"
      ]
     },
     "metadata": {
      "needs_background": "light"
     },
     "output_type": "display_data"
    },
    {
     "data": {
      "image/png": "[encoded data removed]",
      "text/plain": [
       "<Figure size 432x288 with 1 Axes>"
      ]
     },
     "metadata": {
      "needs_background": "light"
     },
     "output_type": "display_data"
    }
   ],
   "source": [
    "accuracy = train_mlp.history['accuracy']\n",
    "val_accuracy = train_mlp.history['val_accuracy']\n",
    "loss = train_mlp.history['loss']\n",
    "val_loss = train_mlp.history['val_loss']\n",
    "epochs = range(len(accuracy))\n",
    "plt.plot(epochs, accuracy, 'b', color=\"g\", label='Training accuracy')\n",
    "plt.plot(epochs, val_accuracy, 'b', label='Validation accuracy')\n",
    "plt.title('Training and validation accuracy')\n",
    "plt.legend()\n",
    "plt.figure()\n",
    "plt.plot(epochs, loss, 'b', color=\"g\", label='Training loss')\n",
    "plt.plot(epochs, val_loss, 'b', label='Validation loss')\n",
    "plt.title('Training and validation loss')\n",
    "plt.legend()\n",
    "plt.show()"
   ]
  },
  {
   "cell_type": "code",
   "execution_count": null,
   "id": "b65ca338",
   "metadata": {},
   "outputs": [],
   "source": []
  },
  {
   "cell_type": "code",
   "execution_count": null,
   "id": "ed0054ce",
   "metadata": {},
   "outputs": [],
   "source": []
  }
 ],
 "metadata": {
  "kernelspec": {
   "display_name": "Python 3",
   "language": "python",
   "name": "python3"
  },
  "language_info": {
   "codemirror_mode": {
    "name": "ipython",
    "version": 3
   },
   "file_extension": ".py",
   "mimetype": "text/x-python",
   "name": "python",
   "nbconvert_exporter": "python",
   "pygments_lexer": "ipython3",
   "version": "3.8.8"
  }
 },
 "nbformat": 4,
 "nbformat_minor": 5
}
