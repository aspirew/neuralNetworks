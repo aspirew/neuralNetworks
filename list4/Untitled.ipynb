{
 "cells": [
  {
   "cell_type": "code",
   "execution_count": 1,
   "id": "5658ca44",
   "metadata": {},
   "outputs": [],
   "source": [
    "from keras.datasets import mnist\n",
    "(train_X,train_Y), (test_X,test_Y) = mnist.load_data()"
   ]
  },
  {
   "cell_type": "code",
   "execution_count": 2,
   "id": "21f32d25",
   "metadata": {},
   "outputs": [
    {
     "name": "stdout",
     "output_type": "stream",
     "text": [
      "Training data shape :  (60000, 28, 28) (60000,)\n",
      "Testing data shape :  (10000, 28, 28) (10000,)\n"
     ]
    }
   ],
   "source": [
    "print('Training data shape : ', train_X.shape, train_Y.shape)\n",
    "print('Testing data shape : ', test_X.shape, test_Y.shape)"
   ]
  },
  {
   "cell_type": "code",
   "execution_count": 3,
   "id": "3248025a",
   "metadata": {},
   "outputs": [
    {
     "name": "stdout",
     "output_type": "stream",
     "text": [
      "Total number of outputs :  10\n",
      "Output classes :  [0 1 2 3 4 5 6 7 8 9]\n"
     ]
    }
   ],
   "source": [
    "import numpy as np\n",
    "\n",
    "classes = np.unique(train_Y)\n",
    "nClasses = len(classes)\n",
    "print('Total number of outputs : ', nClasses)\n",
    "print('Output classes : ', classes)"
   ]
  },
  {
   "cell_type": "code",
   "execution_count": 4,
   "id": "d68a22f3",
   "metadata": {},
   "outputs": [
    {
     "data": {
      "text/plain": [
       "((60000, 28, 28, 1), (10000, 28, 28, 1))"
      ]
     },
     "execution_count": 4,
     "metadata": {},
     "output_type": "execute_result"
    }
   ],
   "source": [
    "train_X\n",
    "train_Y\n",
    "train_X = train_X.reshape(-1, 28, 28, 1)\n",
    "test_X = test_X.reshape(-1, 28, 28, 1)\n",
    "train_X.shape, test_X.shape"
   ]
  },
  {
   "cell_type": "code",
   "execution_count": 5,
   "id": "fc72fb56",
   "metadata": {},
   "outputs": [],
   "source": [
    "from keras.utils import normalize\n",
    "train_X = train_X.astype('float32')\n",
    "test_X = test_X.astype('float32')\n",
    "train_X = normalize(train_X, axis=1)\n",
    "test_X = normalize(test_X, axis=1)"
   ]
  },
  {
   "cell_type": "code",
   "execution_count": 6,
   "id": "48b3696a",
   "metadata": {},
   "outputs": [
    {
     "name": "stdout",
     "output_type": "stream",
     "text": [
      "Original label: 5\n",
      "After conversion to argmax: [0. 0. 0. 0. 0. 1. 0. 0. 0. 0.]\n"
     ]
    }
   ],
   "source": [
    "from keras.utils import to_categorical\n",
    "\n",
    "train_Y_argmax = to_categorical(train_Y)\n",
    "test_Y_argmax = to_categorical(test_Y)\n",
    "\n",
    "print('Original label:', train_Y[0])\n",
    "print('After conversion to argmax:', train_Y_argmax[0])"
   ]
  },
  {
   "cell_type": "code",
   "execution_count": 7,
   "id": "aaece0b0",
   "metadata": {},
   "outputs": [
    {
     "data": {
      "text/plain": [
       "((48000, 28, 28, 1), (12000, 28, 28, 1), (48000, 10), (12000, 10))"
      ]
     },
     "execution_count": 7,
     "metadata": {},
     "output_type": "execute_result"
    }
   ],
   "source": [
    "from sklearn.model_selection import train_test_split\n",
    "train_X,valid_X,train_label,valid_label = train_test_split(train_X, train_Y_argmax, test_size=0.2, random_state=13)\n",
    "train_X.shape,valid_X.shape,train_label.shape,valid_label.shape"
   ]
  },
  {
   "cell_type": "code",
   "execution_count": 8,
   "id": "5c38906d",
   "metadata": {},
   "outputs": [],
   "source": [
    "from keras.models import Sequential,Input,Model\n",
    "from keras.layers import Dense, Dropout, Flatten\n",
    "from keras.layers import Conv2D, MaxPooling2D, AveragePooling2D\n",
    "from keras.layers.normalization import BatchNormalization\n",
    "from keras.layers.advanced_activations import LeakyReLU\n",
    "batch_size = 200\n",
    "epochs = 10\n",
    "learn_rate = 0.01\n",
    "k_size = 3\n",
    "feature_map = 32\n",
    "pooling_size = 10"
   ]
  },
  {
   "cell_type": "code",
   "execution_count": 9,
   "id": "e8885e2e",
   "metadata": {},
   "outputs": [],
   "source": [
    "model = Sequential()\n",
    "model.add(Conv2D(feature_map, kernel_size=(k_size, k_size),activation='relu',input_shape=(28,28,1),padding='same'))\n",
    "model.add(MaxPooling2D((pooling_size, pooling_size),padding='same'))\n",
    "model.add(Flatten())\n",
    "model.add(Dense(128, activation='relu'))\n",
    "model.add(Dropout(0.25))\n",
    "model.add(Dense(10, activation='softmax'))"
   ]
  },
  {
   "cell_type": "code",
   "execution_count": 10,
   "id": "34fe331a",
   "metadata": {},
   "outputs": [
    {
     "name": "stdout",
     "output_type": "stream",
     "text": [
      "Epoch 1/10\n",
      "240/240 [==============================] - 7s 29ms/step - loss: 0.6113 - accuracy: 0.8039 - val_loss: 0.2876 - val_accuracy: 0.9128\n",
      "Epoch 2/10\n",
      "240/240 [==============================] - 6s 27ms/step - loss: 0.2968 - accuracy: 0.9047 - val_loss: 0.2224 - val_accuracy: 0.9290\n",
      "Epoch 3/10\n",
      "240/240 [==============================] - 7s 28ms/step - loss: 0.2367 - accuracy: 0.9256 - val_loss: 0.1855 - val_accuracy: 0.9420\n",
      "Epoch 4/10\n",
      "240/240 [==============================] - 7s 28ms/step - loss: 0.2082 - accuracy: 0.9337 - val_loss: 0.1787 - val_accuracy: 0.9429\n",
      "Epoch 5/10\n",
      "240/240 [==============================] - 6s 27ms/step - loss: 0.1860 - accuracy: 0.9404 - val_loss: 0.1578 - val_accuracy: 0.9504\n",
      "Epoch 6/10\n",
      "240/240 [==============================] - 7s 28ms/step - loss: 0.1719 - accuracy: 0.9451 - val_loss: 0.1666 - val_accuracy: 0.9474\n",
      "Epoch 7/10\n",
      "240/240 [==============================] - 7s 28ms/step - loss: 0.1643 - accuracy: 0.9480 - val_loss: 0.1531 - val_accuracy: 0.9538\n",
      "Epoch 8/10\n",
      "240/240 [==============================] - 7s 27ms/step - loss: 0.1537 - accuracy: 0.9511 - val_loss: 0.1387 - val_accuracy: 0.9574\n",
      "Epoch 9/10\n",
      "240/240 [==============================] - 7s 29ms/step - loss: 0.1483 - accuracy: 0.9508 - val_loss: 0.1283 - val_accuracy: 0.9608\n",
      "Epoch 10/10\n",
      "240/240 [==============================] - 6s 27ms/step - loss: 0.1428 - accuracy: 0.9551 - val_loss: 0.1408 - val_accuracy: 0.9590\n"
     ]
    }
   ],
   "source": [
    "from keras import losses\n",
    "from keras import optimizers\n",
    "\n",
    "model.compile(loss=losses.categorical_crossentropy, \n",
    "              optimizer=optimizers.Adam(learning_rate=learn_rate),\n",
    "              metrics=['accuracy'])\n",
    "\n",
    "\n",
    "train = model.fit(train_X, train_label, batch_size = batch_size, epochs=epochs, validation_data = (valid_X, valid_label))"
   ]
  },
  {
   "cell_type": "code",
   "execution_count": 11,
   "id": "4815ee89",
   "metadata": {},
   "outputs": [
    {
     "name": "stdout",
     "output_type": "stream",
     "text": [
      "313/313 [==============================] - 1s 3ms/step - loss: 0.1296 - accuracy: 0.9571\n"
     ]
    }
   ],
   "source": [
    "test_eval = model.evaluate(test_X, test_Y_argmax)"
   ]
  },
  {
   "cell_type": "code",
   "execution_count": 12,
   "id": "7b1b0247",
   "metadata": {},
   "outputs": [
    {
     "data": {
      "image/png": "[encoded data removed]",
      "text/plain": [
       "<Figure size 432x288 with 1 Axes>"
      ]
     },
     "metadata": {
      "needs_background": "light"
     },
     "output_type": "display_data"
    },
    {
     "data": {
      "image/png": "[encoded data removed]",
      "text/plain": [
       "<Figure size 432x288 with 1 Axes>"
      ]
     },
     "metadata": {
      "needs_background": "light"
     },
     "output_type": "display_data"
    }
   ],
   "source": [
    "import matplotlib.pyplot as plt\n",
    "\n",
    "accuracy = train.history['accuracy']\n",
    "val_accuracy = train.history['val_accuracy']\n",
    "loss = train.history['loss']\n",
    "val_loss = train.history['val_loss']\n",
    "epochs = range(len(accuracy))\n",
    "plt.plot(epochs, accuracy, 'b', color=\"g\", label='Training accuracy')\n",
    "plt.plot(epochs, val_accuracy, 'b', label='Validation accuracy')\n",
    "plt.title('Training and validation accuracy')\n",
    "plt.legend()\n",
    "plt.figure()\n",
    "plt.plot(epochs, loss, 'b', color=\"g\", label='Training loss')\n",
    "plt.plot(epochs, val_loss, 'b', label='Validation loss')\n",
    "plt.title('Training and validation loss')\n",
    "plt.legend()\n",
    "plt.show()"
   ]
  },
  {
   "cell_type": "code",
   "execution_count": 13,
   "id": "bca0b0e7",
   "metadata": {},
   "outputs": [],
   "source": [
    "batch_size = 200\n",
    "epochs = 10\n",
    "learn_rate = 0.01\n",
    "\n",
    "model_mlp = Sequential()\n",
    "model_mlp.add(Flatten())\n",
    "model_mlp.add(Dense(128, activation='relu'))\n",
    "model_mlp.add(Dropout(0.25))\n",
    "model_mlp.add(Dense(64, activation='relu'))\n",
    "model_mlp.add(Dropout(0.25))\n",
    "model_mlp.add(Dense(10, activation='softmax'))"
   ]
  },
  {
   "cell_type": "code",
   "execution_count": 14,
   "id": "8e6c427e",
   "metadata": {},
   "outputs": [
    {
     "name": "stdout",
     "output_type": "stream",
     "text": [
      "Epoch 1/10\n",
      "240/240 [==============================] - 1s 3ms/step - loss: 0.3740 - accuracy: 0.8861 - val_loss: 0.1639 - val_accuracy: 0.9515\n",
      "Epoch 2/10\n",
      "240/240 [==============================] - 0s 2ms/step - loss: 0.2043 - accuracy: 0.9391 - val_loss: 0.1304 - val_accuracy: 0.9606\n",
      "Epoch 3/10\n",
      "240/240 [==============================] - 0s 2ms/step - loss: 0.1636 - accuracy: 0.9517 - val_loss: 0.1330 - val_accuracy: 0.9635\n",
      "Epoch 4/10\n",
      "240/240 [==============================] - 0s 2ms/step - loss: 0.1506 - accuracy: 0.9560 - val_loss: 0.1307 - val_accuracy: 0.9627\n",
      "Epoch 5/10\n",
      "240/240 [==============================] - 0s 2ms/step - loss: 0.1310 - accuracy: 0.9609 - val_loss: 0.1230 - val_accuracy: 0.9665\n",
      "Epoch 6/10\n",
      "240/240 [==============================] - 0s 2ms/step - loss: 0.1309 - accuracy: 0.9608 - val_loss: 0.1146 - val_accuracy: 0.9653\n",
      "Epoch 7/10\n",
      "240/240 [==============================] - 0s 2ms/step - loss: 0.1190 - accuracy: 0.9649 - val_loss: 0.1214 - val_accuracy: 0.9663\n",
      "Epoch 8/10\n",
      "240/240 [==============================] - 0s 2ms/step - loss: 0.1184 - accuracy: 0.9648 - val_loss: 0.1142 - val_accuracy: 0.9701\n",
      "Epoch 9/10\n",
      "240/240 [==============================] - 1s 2ms/step - loss: 0.1129 - accuracy: 0.9672 - val_loss: 0.1226 - val_accuracy: 0.9680\n",
      "Epoch 10/10\n",
      "240/240 [==============================] - 0s 2ms/step - loss: 0.1082 - accuracy: 0.9685 - val_loss: 0.1112 - val_accuracy: 0.9691\n"
     ]
    }
   ],
   "source": [
    "model_mlp.compile(loss=losses.categorical_crossentropy, \n",
    "              optimizer=optimizers.Adam(learning_rate=learn_rate),\n",
    "              metrics=['accuracy'])\n",
    "\n",
    "\n",
    "train_mlp = model_mlp.fit(train_X, train_label, batch_size = batch_size, epochs=epochs, validation_data = (valid_X, valid_label))"
   ]
  },
  {
   "cell_type": "code",
   "execution_count": 15,
   "id": "ebb5907d",
   "metadata": {},
   "outputs": [
    {
     "name": "stdout",
     "output_type": "stream",
     "text": [
      "313/313 [==============================] - 0s 824us/step - loss: 0.1174 - accuracy: 0.9695\n"
     ]
    }
   ],
   "source": [
    "test_eval = model_mlp.evaluate(test_X, test_Y_argmax)"
   ]
  },
  {
   "cell_type": "code",
   "execution_count": 16,
   "id": "f6622599",
   "metadata": {},
   "outputs": [
    {
     "data": {
      "image/png": "[encoded data removed]",
      "text/plain": [
       "<Figure size 432x288 with 1 Axes>"
      ]
     },
     "metadata": {
      "needs_background": "light"
     },
     "output_type": "display_data"
    },
    {
     "data": {
      "image/png": "[encoded data removed]",
      "text/plain": [
       "<Figure size 432x288 with 1 Axes>"
      ]
     },
     "metadata": {
      "needs_background": "light"
     },
     "output_type": "display_data"
    }
   ],
   "source": [
    "accuracy = train_mlp.history['accuracy']\n",
    "val_accuracy = train_mlp.history['val_accuracy']\n",
    "loss = train_mlp.history['loss']\n",
    "val_loss = train_mlp.history['val_loss']\n",
    "epochs = range(len(accuracy))\n",
    "plt.plot(epochs, accuracy, 'b', color=\"g\", label='Training accuracy')\n",
    "plt.plot(epochs, val_accuracy, 'b', label='Validation accuracy')\n",
    "plt.title('Training and validation accuracy')\n",
    "plt.legend()\n",
    "plt.figure()\n",
    "plt.plot(epochs, loss, 'b', color=\"g\", label='Training loss')\n",
    "plt.plot(epochs, val_loss, 'b', label='Validation loss')\n",
    "plt.title('Training and validation loss')\n",
    "plt.legend()\n",
    "plt.show()"
   ]
  },
  {
   "cell_type": "code",
   "execution_count": null,
   "id": "b65ca338",
   "metadata": {},
   "outputs": [],
   "source": []
  },
  {
   "cell_type": "code",
   "execution_count": null,
   "id": "ed0054ce",
   "metadata": {},
   "outputs": [],
   "source": []
  }
 ],
 "metadata": {
  "kernelspec": {
   "display_name": "Python 3",
   "language": "python",
   "name": "python3"
  },
  "language_info": {
   "codemirror_mode": {
    "name": "ipython",
    "version": 3
   },
   "file_extension": ".py",
   "mimetype": "text/x-python",
   "name": "python",
   "nbconvert_exporter": "python",
   "pygments_lexer": "ipython3",
   "version": "3.8.8"
  }
 },
 "nbformat": 4,
 "nbformat_minor": 5
}
