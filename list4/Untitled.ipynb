{
 "cells": [
  {
   "cell_type": "code",
   "execution_count": 1,
   "id": "5658ca44",
   "metadata": {},
   "outputs": [],
   "source": [
    "from keras.datasets import mnist\n",
    "(train_X,train_Y), (test_X,test_Y) = mnist.load_data()"
   ]
  },
  {
   "cell_type": "code",
   "execution_count": 2,
   "id": "21f32d25",
   "metadata": {},
   "outputs": [
    {
     "name": "stdout",
     "output_type": "stream",
     "text": [
      "Training data shape :  (60000, 28, 28) (60000,)\n",
      "Testing data shape :  (10000, 28, 28) (10000,)\n"
     ]
    }
   ],
   "source": [
    "print('Training data shape : ', train_X.shape, train_Y.shape)\n",
    "print('Testing data shape : ', test_X.shape, test_Y.shape)"
   ]
  },
  {
   "cell_type": "code",
   "execution_count": 3,
   "id": "3248025a",
   "metadata": {},
   "outputs": [
    {
     "name": "stdout",
     "output_type": "stream",
     "text": [
      "Total number of outputs :  10\n",
      "Output classes :  [0 1 2 3 4 5 6 7 8 9]\n"
     ]
    }
   ],
   "source": [
    "import numpy as np\n",
    "\n",
    "classes = np.unique(train_Y)\n",
    "nClasses = len(classes)\n",
    "print('Total number of outputs : ', nClasses)\n",
    "print('Output classes : ', classes)"
   ]
  },
  {
   "cell_type": "code",
   "execution_count": 4,
   "id": "d68a22f3",
   "metadata": {},
   "outputs": [
    {
     "data": {
      "text/plain": [
       "((60000, 28, 28, 1), (10000, 28, 28, 1))"
      ]
     },
     "execution_count": 4,
     "metadata": {},
     "output_type": "execute_result"
    }
   ],
   "source": [
    "train_X\n",
    "train_Y\n",
    "train_X = train_X.reshape(-1, 28, 28, 1)\n",
    "test_X = test_X.reshape(-1, 28, 28, 1)\n",
    "train_X.shape, test_X.shape"
   ]
  },
  {
   "cell_type": "code",
   "execution_count": 5,
   "id": "fc72fb56",
   "metadata": {},
   "outputs": [],
   "source": [
    "from keras.utils import normalize\n",
    "train_X = train_X.astype('float32')\n",
    "test_X = test_X.astype('float32')\n",
    "train_X = normalize(train_X, axis=1)\n",
    "test_X = normalize(test_X, axis=1)"
   ]
  },
  {
   "cell_type": "code",
   "execution_count": 6,
   "id": "48b3696a",
   "metadata": {},
   "outputs": [
    {
     "name": "stdout",
     "output_type": "stream",
     "text": [
      "Original label: 5\n",
      "After conversion to argmax: [0. 0. 0. 0. 0. 1. 0. 0. 0. 0.]\n"
     ]
    }
   ],
   "source": [
    "from keras.utils import to_categorical\n",
    "\n",
    "train_Y_argmax = to_categorical(train_Y)\n",
    "test_Y_argmax = to_categorical(test_Y)\n",
    "\n",
    "print('Original label:', train_Y[0])\n",
    "print('After conversion to argmax:', train_Y_argmax[0])"
   ]
  },
  {
   "cell_type": "code",
   "execution_count": 7,
   "id": "aaece0b0",
   "metadata": {},
   "outputs": [
    {
     "data": {
      "text/plain": [
       "((48000, 28, 28, 1), (12000, 28, 28, 1), (48000, 10), (12000, 10))"
      ]
     },
     "execution_count": 7,
     "metadata": {},
     "output_type": "execute_result"
    }
   ],
   "source": [
    "from sklearn.model_selection import train_test_split\n",
    "train_X,valid_X,train_label,valid_label = train_test_split(train_X, train_Y_argmax, test_size=0.2, random_state=13)\n",
    "train_X.shape,valid_X.shape,train_label.shape,valid_label.shape"
   ]
  },
  {
   "cell_type": "code",
   "execution_count": 8,
   "id": "5c38906d",
   "metadata": {},
   "outputs": [],
   "source": [
    "from keras.models import Sequential,Input,Model\n",
    "from keras.layers import Dense, Dropout, Flatten\n",
    "from keras.layers import Conv2D, MaxPooling2D\n",
    "from keras.layers.normalization import BatchNormalization\n",
    "from keras.layers.advanced_activations import LeakyReLU\n",
    "batch_size = 200\n",
    "epochs = 10\n",
    "learn_rate = 0.01"
   ]
  },
  {
   "cell_type": "code",
   "execution_count": 9,
   "id": "e8885e2e",
   "metadata": {},
   "outputs": [],
   "source": [
    "model = Sequential()\n",
    "model.add(Conv2D(32, kernel_size=(3, 3),activation='relu',input_shape=(28,28,1),padding='same'))\n",
    "model.add(MaxPooling2D((2, 2),padding='same'))\n",
    "model.add(Conv2D(64, (3, 3), activation='relu',padding='same'))\n",
    "model.add(MaxPooling2D(pool_size=(2, 2),padding='same'))\n",
    "model.add(Conv2D(128, (3, 3), activation='relu',padding='same'))\n",
    "model.add(MaxPooling2D(pool_size=(2, 2),padding='same'))\n",
    "model.add(Flatten())\n",
    "model.add(Dense(128, activation='relu'))\n",
    "model.add(Dense(10, activation='softmax'))"
   ]
  },
  {
   "cell_type": "code",
   "execution_count": 10,
   "id": "34fe331a",
   "metadata": {},
   "outputs": [
    {
     "name": "stdout",
     "output_type": "stream",
     "text": [
      "Epoch 1/10\n",
      "240/240 [==============================] - 23s 96ms/step - loss: 0.3015 - accuracy: 0.9033 - val_loss: 0.0692 - val_accuracy: 0.9791\n",
      "Epoch 2/10\n",
      "240/240 [==============================] - 27s 111ms/step - loss: 0.0669 - accuracy: 0.9792 - val_loss: 0.0686 - val_accuracy: 0.9786\n",
      "Epoch 3/10\n",
      "240/240 [==============================] - 28s 118ms/step - loss: 0.0494 - accuracy: 0.9849 - val_loss: 0.0490 - val_accuracy: 0.9843\n",
      "Epoch 4/10\n",
      "240/240 [==============================] - 24s 100ms/step - loss: 0.0388 - accuracy: 0.9874 - val_loss: 0.0533 - val_accuracy: 0.9846\n",
      "Epoch 5/10\n",
      "240/240 [==============================] - 23s 96ms/step - loss: 0.0414 - accuracy: 0.9871 - val_loss: 0.0602 - val_accuracy: 0.9823\n",
      "Epoch 6/10\n",
      "240/240 [==============================] - 21s 90ms/step - loss: 0.0388 - accuracy: 0.9878 - val_loss: 0.0531 - val_accuracy: 0.9859\n",
      "Epoch 7/10\n",
      "240/240 [==============================] - 21s 89ms/step - loss: 0.0340 - accuracy: 0.9898 - val_loss: 0.0654 - val_accuracy: 0.9841\n",
      "Epoch 8/10\n",
      "240/240 [==============================] - 23s 94ms/step - loss: 0.0332 - accuracy: 0.9897 - val_loss: 0.0662 - val_accuracy: 0.9850\n",
      "Epoch 9/10\n",
      "240/240 [==============================] - 22s 90ms/step - loss: 0.0351 - accuracy: 0.9892 - val_loss: 0.0681 - val_accuracy: 0.9843\n",
      "Epoch 10/10\n",
      "240/240 [==============================] - 22s 94ms/step - loss: 0.0354 - accuracy: 0.9899 - val_loss: 0.0589 - val_accuracy: 0.9856\n"
     ]
    }
   ],
   "source": [
    "from keras import losses\n",
    "from keras import optimizers\n",
    "\n",
    "model.compile(loss=losses.categorical_crossentropy, \n",
    "              optimizer=optimizers.Adam(learning_rate=learn_rate),\n",
    "              metrics=['accuracy'])\n",
    "\n",
    "\n",
    "train = model.fit(train_X, train_label, batch_size = batch_size, epochs=epochs, validation_data = (valid_X, valid_label))"
   ]
  },
  {
   "cell_type": "code",
   "execution_count": 11,
   "id": "4815ee89",
   "metadata": {},
   "outputs": [
    {
     "name": "stdout",
     "output_type": "stream",
     "text": [
      "313/313 [==============================] - 2s 5ms/step - loss: 0.0620 - accuracy: 0.9854\n"
     ]
    }
   ],
   "source": [
    "test_eval = model.evaluate(test_X, test_Y_argmax)"
   ]
  },
  {
   "cell_type": "code",
   "execution_count": 21,
   "id": "c63d89cf",
   "metadata": {},
   "outputs": [
    {
     "data": {
      "text/plain": [
       "{'loss': [0.30152273178100586,\n",
       "  0.06690849363803864,\n",
       "  0.04944826662540436,\n",
       "  0.0387905053794384,\n",
       "  0.04140940681099892,\n",
       "  0.038788918405771255,\n",
       "  0.033977359533309937,\n",
       "  0.03323734179139137,\n",
       "  0.03511473536491394,\n",
       "  0.035422053188085556],\n",
       " 'accuracy': [0.903291642665863,\n",
       "  0.9791666865348816,\n",
       "  0.9848958253860474,\n",
       "  0.9873958230018616,\n",
       "  0.9871458411216736,\n",
       "  0.9878333210945129,\n",
       "  0.9897916913032532,\n",
       "  0.9897291660308838,\n",
       "  0.989187479019165,\n",
       "  0.9899374842643738],\n",
       " 'val_loss': [0.06919719278812408,\n",
       "  0.0686202347278595,\n",
       "  0.0489744208753109,\n",
       "  0.0533236600458622,\n",
       "  0.060189422219991684,\n",
       "  0.053053226321935654,\n",
       "  0.0653645396232605,\n",
       "  0.06618618965148926,\n",
       "  0.06809209287166595,\n",
       "  0.0589282363653183],\n",
       " 'val_accuracy': [0.9790833592414856,\n",
       "  0.9785833358764648,\n",
       "  0.984333336353302,\n",
       "  0.98458331823349,\n",
       "  0.9823333621025085,\n",
       "  0.9859166741371155,\n",
       "  0.984083354473114,\n",
       "  0.9850000143051147,\n",
       "  0.984333336353302,\n",
       "  0.9855833053588867]}"
      ]
     },
     "execution_count": 21,
     "metadata": {},
     "output_type": "execute_result"
    }
   ],
   "source": [
    "train.history"
   ]
  },
  {
   "cell_type": "code",
   "execution_count": 12,
   "id": "7b1b0247",
   "metadata": {},
   "outputs": [
    {
     "data": {
      "image/png": "[encoded data removed]",
      "text/plain": [
       "<Figure size 432x288 with 1 Axes>"
      ]
     },
     "metadata": {
      "needs_background": "light"
     },
     "output_type": "display_data"
    },
    {
     "data": {
      "image/png": "[encoded data removed]",
      "text/plain": [
       "<Figure size 432x288 with 1 Axes>"
      ]
     },
     "metadata": {
      "needs_background": "light"
     },
     "output_type": "display_data"
    }
   ],
   "source": [
    "import matplotlib.pyplot as plt\n",
    "\n",
    "accuracy = train.history['accuracy']\n",
    "val_accuracy = train.history['val_accuracy']\n",
    "loss = train.history['loss']\n",
    "val_loss = train.history['val_loss']\n",
    "epochs = range(len(accuracy))\n",
    "plt.plot(epochs, accuracy, 'b', color=\"g\", label='Training accuracy')\n",
    "plt.plot(epochs, val_accuracy, 'b', label='Validation accuracy')\n",
    "plt.title('Training and validation accuracy')\n",
    "plt.legend()\n",
    "plt.figure()\n",
    "plt.plot(epochs, loss, 'b', color=\"g\", label='Training loss')\n",
    "plt.plot(epochs, val_loss, 'b', label='Validation loss')\n",
    "plt.title('Training and validation loss')\n",
    "plt.legend()\n",
    "plt.show()"
   ]
  },
  {
   "cell_type": "code",
   "execution_count": 13,
   "id": "bca0b0e7",
   "metadata": {},
   "outputs": [],
   "source": [
    "batch_size = 200\n",
    "epochs = 10\n",
    "learn_rate = 0.01\n",
    "\n",
    "model_mlp = Sequential()\n",
    "model_mlp.add(Flatten())\n",
    "model_mlp.add(Dense(128, activation='relu'))\n",
    "model_mlp.add(Dense(64, activation='relu'))\n",
    "model_mlp.add(Dense(10, activation='softmax'))"
   ]
  },
  {
   "cell_type": "code",
   "execution_count": 14,
   "id": "8e6c427e",
   "metadata": {},
   "outputs": [
    {
     "name": "stdout",
     "output_type": "stream",
     "text": [
      "Epoch 1/10\n",
      "240/240 [==============================] - 0s 2ms/step - loss: 0.2656 - accuracy: 0.9189 - val_loss: 0.1447 - val_accuracy: 0.9552\n",
      "Epoch 2/10\n",
      "240/240 [==============================] - 0s 2ms/step - loss: 0.1180 - accuracy: 0.9627 - val_loss: 0.1147 - val_accuracy: 0.9670\n",
      "Epoch 3/10\n",
      "240/240 [==============================] - 0s 2ms/step - loss: 0.0814 - accuracy: 0.9740 - val_loss: 0.1077 - val_accuracy: 0.9688\n",
      "Epoch 4/10\n",
      "240/240 [==============================] - 0s 2ms/step - loss: 0.0665 - accuracy: 0.9785 - val_loss: 0.1156 - val_accuracy: 0.9678\n",
      "Epoch 5/10\n",
      "240/240 [==============================] - 0s 2ms/step - loss: 0.0573 - accuracy: 0.9814 - val_loss: 0.1244 - val_accuracy: 0.9682\n",
      "Epoch 6/10\n",
      "240/240 [==============================] - 0s 2ms/step - loss: 0.0462 - accuracy: 0.9853 - val_loss: 0.1213 - val_accuracy: 0.9675\n",
      "Epoch 7/10\n",
      "240/240 [==============================] - 0s 2ms/step - loss: 0.0373 - accuracy: 0.9877 - val_loss: 0.1435 - val_accuracy: 0.9659\n",
      "Epoch 8/10\n",
      "240/240 [==============================] - 0s 2ms/step - loss: 0.0336 - accuracy: 0.9890 - val_loss: 0.1421 - val_accuracy: 0.9683\n",
      "Epoch 9/10\n",
      "240/240 [==============================] - 0s 2ms/step - loss: 0.0327 - accuracy: 0.9893 - val_loss: 0.1685 - val_accuracy: 0.9665\n",
      "Epoch 10/10\n",
      "240/240 [==============================] - 0s 2ms/step - loss: 0.0380 - accuracy: 0.9883 - val_loss: 0.1634 - val_accuracy: 0.9677\n"
     ]
    }
   ],
   "source": [
    "model_mlp.compile(loss=losses.categorical_crossentropy, \n",
    "              optimizer=optimizers.Adam(learning_rate=learn_rate),\n",
    "              metrics=['accuracy'])\n",
    "\n",
    "\n",
    "train_mlp = model_mlp.fit(train_X, train_label, batch_size = batch_size, epochs=epochs, validation_data = (valid_X, valid_label))"
   ]
  },
  {
   "cell_type": "code",
   "execution_count": 15,
   "id": "ebb5907d",
   "metadata": {},
   "outputs": [
    {
     "name": "stdout",
     "output_type": "stream",
     "text": [
      "313/313 [==============================] - 0s 751us/step - loss: 0.1586 - accuracy: 0.9679\n"
     ]
    }
   ],
   "source": [
    "test_eval = model_mlp.evaluate(test_X, test_Y_argmax)"
   ]
  },
  {
   "cell_type": "code",
   "execution_count": 16,
   "id": "f6622599",
   "metadata": {},
   "outputs": [
    {
     "data": {
      "image/png": "[encoded data removed]",
      "text/plain": [
       "<Figure size 432x288 with 1 Axes>"
      ]
     },
     "metadata": {
      "needs_background": "light"
     },
     "output_type": "display_data"
    },
    {
     "data": {
      "image/png": "[encoded data removed]",
      "text/plain": [
       "<Figure size 432x288 with 1 Axes>"
      ]
     },
     "metadata": {
      "needs_background": "light"
     },
     "output_type": "display_data"
    }
   ],
   "source": [
    "accuracy = train_mlp.history['accuracy']\n",
    "val_accuracy = train_mlp.history['val_accuracy']\n",
    "loss = train_mlp.history['loss']\n",
    "val_loss = train_mlp.history['val_loss']\n",
    "epochs = range(len(accuracy))\n",
    "plt.plot(epochs, accuracy, 'b', color=\"g\", label='Training accuracy')\n",
    "plt.plot(epochs, val_accuracy, 'b', label='Validation accuracy')\n",
    "plt.title('Training and validation accuracy')\n",
    "plt.legend()\n",
    "plt.figure()\n",
    "plt.plot(epochs, loss, 'b', color=\"g\", label='Training loss')\n",
    "plt.plot(epochs, val_loss, 'b', label='Validation loss')\n",
    "plt.title('Training and validation loss')\n",
    "plt.legend()\n",
    "plt.show()"
   ]
  },
  {
   "cell_type": "code",
   "execution_count": null,
   "id": "b65ca338",
   "metadata": {},
   "outputs": [],
   "source": []
  }
 ],
 "metadata": {
  "kernelspec": {
   "display_name": "Python 3",
   "language": "python",
   "name": "python3"
  },
  "language_info": {
   "codemirror_mode": {
    "name": "ipython",
    "version": 3
   },
   "file_extension": ".py",
   "mimetype": "text/x-python",
   "name": "python",
   "nbconvert_exporter": "python",
   "pygments_lexer": "ipython3",
   "version": "3.8.8"
  }
 },
 "nbformat": 4,
 "nbformat_minor": 5
}
